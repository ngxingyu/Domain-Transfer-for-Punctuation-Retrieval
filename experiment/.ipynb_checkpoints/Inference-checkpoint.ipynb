{
 "cells": [
  {
   "cell_type": "code",
   "execution_count": 5,
   "id": "modern-amplifier",
   "metadata": {},
   "outputs": [
    {
     "name": "stdout",
     "output_type": "stream",
     "text": [
      "/home/nxingyu/project/experiment\r\n"
     ]
    },
    {
     "ename": "MissingConfigException",
     "evalue": "Cannot find primary config 'hparams.yaml'. Check that it's in your config search path.\n\nConfig search path:\n\tprovider=hydra, path=pkg://hydra.conf\n\tprovider=main, path=file:///home/nxingyu/project/experiment\n\tprovider=schema, path=structured://",
     "output_type": "error",
     "traceback": [
      "\u001b[0;31m---------------------------------------------------------------------------\u001b[0m",
      "\u001b[0;31mMissingConfigException\u001b[0m                    Traceback (most recent call last)",
      "\u001b[0;32m<ipython-input-5-92c583ce687f>\u001b[0m in \u001b[0;36m<module>\u001b[0;34m\u001b[0m\n\u001b[1;32m     30\u001b[0m \u001b[0minitialize\u001b[0m\u001b[0;34m(\u001b[0m\u001b[0;34m)\u001b[0m\u001b[0;34m\u001b[0m\u001b[0;34m\u001b[0m\u001b[0m\n\u001b[1;32m     31\u001b[0m \u001b[0mget_ipython\u001b[0m\u001b[0;34m(\u001b[0m\u001b[0;34m)\u001b[0m\u001b[0;34m.\u001b[0m\u001b[0msystem\u001b[0m\u001b[0;34m(\u001b[0m\u001b[0;34m'pwd'\u001b[0m\u001b[0;34m)\u001b[0m\u001b[0;34m\u001b[0m\u001b[0;34m\u001b[0m\u001b[0m\n\u001b[0;32m---> 32\u001b[0;31m cfg=compose(\n\u001b[0m\u001b[1;32m     33\u001b[0m     \u001b[0mconfig_name\u001b[0m\u001b[0;34m=\u001b[0m\u001b[0;34m\"hparams.yaml\"\u001b[0m\u001b[0;34m,\u001b[0m\u001b[0;34m\u001b[0m\u001b[0;34m\u001b[0m\u001b[0m\n\u001b[1;32m     34\u001b[0m )\n",
      "\u001b[0;32m~/miniconda3/envs/NLP/lib/python3.8/site-packages/hydra/experimental/compose.py\u001b[0m in \u001b[0;36mcompose\u001b[0;34m(config_name, overrides, strict, return_hydra_config)\u001b[0m\n\u001b[1;32m     29\u001b[0m     \u001b[0mgh\u001b[0m \u001b[0;34m=\u001b[0m \u001b[0mGlobalHydra\u001b[0m\u001b[0;34m.\u001b[0m\u001b[0minstance\u001b[0m\u001b[0;34m(\u001b[0m\u001b[0;34m)\u001b[0m\u001b[0;34m\u001b[0m\u001b[0;34m\u001b[0m\u001b[0m\n\u001b[1;32m     30\u001b[0m     \u001b[0;32massert\u001b[0m \u001b[0mgh\u001b[0m\u001b[0;34m.\u001b[0m\u001b[0mhydra\u001b[0m \u001b[0;32mis\u001b[0m \u001b[0;32mnot\u001b[0m \u001b[0;32mNone\u001b[0m\u001b[0;34m\u001b[0m\u001b[0;34m\u001b[0m\u001b[0m\n\u001b[0;32m---> 31\u001b[0;31m     cfg = gh.hydra.compose_config(\n\u001b[0m\u001b[1;32m     32\u001b[0m         \u001b[0mconfig_name\u001b[0m\u001b[0;34m=\u001b[0m\u001b[0mconfig_name\u001b[0m\u001b[0;34m,\u001b[0m\u001b[0;34m\u001b[0m\u001b[0;34m\u001b[0m\u001b[0m\n\u001b[1;32m     33\u001b[0m         \u001b[0moverrides\u001b[0m\u001b[0;34m=\u001b[0m\u001b[0moverrides\u001b[0m\u001b[0;34m,\u001b[0m\u001b[0;34m\u001b[0m\u001b[0;34m\u001b[0m\u001b[0m\n",
      "\u001b[0;32m~/miniconda3/envs/NLP/lib/python3.8/site-packages/hydra/_internal/hydra.py\u001b[0m in \u001b[0;36mcompose_config\u001b[0;34m(self, config_name, overrides, run_mode, strict, with_log_configuration, from_shell)\u001b[0m\n\u001b[1;32m    540\u001b[0m         \"\"\"\n\u001b[1;32m    541\u001b[0m \u001b[0;34m\u001b[0m\u001b[0m\n\u001b[0;32m--> 542\u001b[0;31m         cfg = self.config_loader.load_configuration(\n\u001b[0m\u001b[1;32m    543\u001b[0m             \u001b[0mconfig_name\u001b[0m\u001b[0;34m=\u001b[0m\u001b[0mconfig_name\u001b[0m\u001b[0;34m,\u001b[0m\u001b[0;34m\u001b[0m\u001b[0;34m\u001b[0m\u001b[0m\n\u001b[1;32m    544\u001b[0m             \u001b[0moverrides\u001b[0m\u001b[0;34m=\u001b[0m\u001b[0moverrides\u001b[0m\u001b[0;34m,\u001b[0m\u001b[0;34m\u001b[0m\u001b[0;34m\u001b[0m\u001b[0m\n",
      "\u001b[0;32m~/miniconda3/envs/NLP/lib/python3.8/site-packages/hydra/_internal/config_loader_impl.py\u001b[0m in \u001b[0;36mload_configuration\u001b[0;34m(self, config_name, overrides, run_mode, strict, from_shell)\u001b[0m\n\u001b[1;32m    149\u001b[0m     ) -> DictConfig:\n\u001b[1;32m    150\u001b[0m         \u001b[0;32mtry\u001b[0m\u001b[0;34m:\u001b[0m\u001b[0;34m\u001b[0m\u001b[0;34m\u001b[0m\u001b[0m\n\u001b[0;32m--> 151\u001b[0;31m             return self._load_configuration_impl(\n\u001b[0m\u001b[1;32m    152\u001b[0m                 \u001b[0mconfig_name\u001b[0m\u001b[0;34m=\u001b[0m\u001b[0mconfig_name\u001b[0m\u001b[0;34m,\u001b[0m\u001b[0;34m\u001b[0m\u001b[0;34m\u001b[0m\u001b[0m\n\u001b[1;32m    153\u001b[0m                 \u001b[0moverrides\u001b[0m\u001b[0;34m=\u001b[0m\u001b[0moverrides\u001b[0m\u001b[0;34m,\u001b[0m\u001b[0;34m\u001b[0m\u001b[0;34m\u001b[0m\u001b[0m\n",
      "\u001b[0;32m~/miniconda3/envs/NLP/lib/python3.8/site-packages/hydra/_internal/config_loader_impl.py\u001b[0m in \u001b[0;36m_load_configuration_impl\u001b[0;34m(self, config_name, overrides, run_mode, strict, from_shell)\u001b[0m\n\u001b[1;32m    180\u001b[0m         )\n\u001b[1;32m    181\u001b[0m \u001b[0;34m\u001b[0m\u001b[0m\n\u001b[0;32m--> 182\u001b[0;31m         defaults_list = create_defaults_list(\n\u001b[0m\u001b[1;32m    183\u001b[0m             \u001b[0mrepo\u001b[0m\u001b[0;34m=\u001b[0m\u001b[0mcaching_repo\u001b[0m\u001b[0;34m,\u001b[0m\u001b[0;34m\u001b[0m\u001b[0;34m\u001b[0m\u001b[0m\n\u001b[1;32m    184\u001b[0m             \u001b[0mconfig_name\u001b[0m\u001b[0;34m=\u001b[0m\u001b[0mconfig_name\u001b[0m\u001b[0;34m,\u001b[0m\u001b[0;34m\u001b[0m\u001b[0;34m\u001b[0m\u001b[0m\n",
      "\u001b[0;32m~/miniconda3/envs/NLP/lib/python3.8/site-packages/hydra/_internal/defaults_list.py\u001b[0m in \u001b[0;36mcreate_defaults_list\u001b[0;34m(repo, config_name, overrides_list, prepend_hydra, skip_missing)\u001b[0m\n\u001b[1;32m    718\u001b[0m     \"\"\"\n\u001b[1;32m    719\u001b[0m     \u001b[0moverrides\u001b[0m \u001b[0;34m=\u001b[0m \u001b[0mOverrides\u001b[0m\u001b[0;34m(\u001b[0m\u001b[0mrepo\u001b[0m\u001b[0;34m=\u001b[0m\u001b[0mrepo\u001b[0m\u001b[0;34m,\u001b[0m \u001b[0moverrides_list\u001b[0m\u001b[0;34m=\u001b[0m\u001b[0moverrides_list\u001b[0m\u001b[0;34m)\u001b[0m\u001b[0;34m\u001b[0m\u001b[0;34m\u001b[0m\u001b[0m\n\u001b[0;32m--> 720\u001b[0;31m     defaults, tree = _create_defaults_list(\n\u001b[0m\u001b[1;32m    721\u001b[0m         \u001b[0mrepo\u001b[0m\u001b[0;34m,\u001b[0m\u001b[0;34m\u001b[0m\u001b[0;34m\u001b[0m\u001b[0m\n\u001b[1;32m    722\u001b[0m         \u001b[0mconfig_name\u001b[0m\u001b[0;34m,\u001b[0m\u001b[0;34m\u001b[0m\u001b[0;34m\u001b[0m\u001b[0m\n",
      "\u001b[0;32m~/miniconda3/envs/NLP/lib/python3.8/site-packages/hydra/_internal/defaults_list.py\u001b[0m in \u001b[0;36m_create_defaults_list\u001b[0;34m(repo, config_name, overrides, prepend_hydra, skip_missing)\u001b[0m\n\u001b[1;32m    688\u001b[0m     \u001b[0mroot\u001b[0m \u001b[0;34m=\u001b[0m \u001b[0m_create_root\u001b[0m\u001b[0;34m(\u001b[0m\u001b[0mconfig_name\u001b[0m\u001b[0;34m=\u001b[0m\u001b[0mconfig_name\u001b[0m\u001b[0;34m,\u001b[0m \u001b[0mwith_hydra\u001b[0m\u001b[0;34m=\u001b[0m\u001b[0mprepend_hydra\u001b[0m\u001b[0;34m)\u001b[0m\u001b[0;34m\u001b[0m\u001b[0;34m\u001b[0m\u001b[0m\n\u001b[1;32m    689\u001b[0m \u001b[0;34m\u001b[0m\u001b[0m\n\u001b[0;32m--> 690\u001b[0;31m     defaults_tree = _create_defaults_tree(\n\u001b[0m\u001b[1;32m    691\u001b[0m         \u001b[0mrepo\u001b[0m\u001b[0;34m=\u001b[0m\u001b[0mrepo\u001b[0m\u001b[0;34m,\u001b[0m\u001b[0;34m\u001b[0m\u001b[0;34m\u001b[0m\u001b[0m\n\u001b[1;32m    692\u001b[0m         \u001b[0mroot\u001b[0m\u001b[0;34m=\u001b[0m\u001b[0mroot\u001b[0m\u001b[0;34m,\u001b[0m\u001b[0;34m\u001b[0m\u001b[0;34m\u001b[0m\u001b[0m\n",
      "\u001b[0;32m~/miniconda3/envs/NLP/lib/python3.8/site-packages/hydra/_internal/defaults_list.py\u001b[0m in \u001b[0;36m_create_defaults_tree\u001b[0;34m(repo, root, is_root_config, skip_missing, interpolated_subtree, overrides)\u001b[0m\n\u001b[1;32m    340\u001b[0m     \u001b[0moverrides\u001b[0m\u001b[0;34m:\u001b[0m \u001b[0mOverrides\u001b[0m\u001b[0;34m,\u001b[0m\u001b[0;34m\u001b[0m\u001b[0;34m\u001b[0m\u001b[0m\n\u001b[1;32m    341\u001b[0m ) -> DefaultsTreeNode:\n\u001b[0;32m--> 342\u001b[0;31m     ret = _create_defaults_tree_impl(\n\u001b[0m\u001b[1;32m    343\u001b[0m         \u001b[0mrepo\u001b[0m\u001b[0;34m=\u001b[0m\u001b[0mrepo\u001b[0m\u001b[0;34m,\u001b[0m\u001b[0;34m\u001b[0m\u001b[0;34m\u001b[0m\u001b[0m\n\u001b[1;32m    344\u001b[0m         \u001b[0mroot\u001b[0m\u001b[0;34m=\u001b[0m\u001b[0mroot\u001b[0m\u001b[0;34m,\u001b[0m\u001b[0;34m\u001b[0m\u001b[0;34m\u001b[0m\u001b[0m\n",
      "\u001b[0;32m~/miniconda3/envs/NLP/lib/python3.8/site-packages/hydra/_internal/defaults_list.py\u001b[0m in \u001b[0;36m_create_defaults_tree_impl\u001b[0;34m(repo, root, is_root_config, skip_missing, interpolated_subtree, overrides)\u001b[0m\n\u001b[1;32m    423\u001b[0m     \u001b[0;32mif\u001b[0m \u001b[0mparent\u001b[0m\u001b[0;34m.\u001b[0m\u001b[0mis_virtual\u001b[0m\u001b[0;34m(\u001b[0m\u001b[0;34m)\u001b[0m\u001b[0;34m:\u001b[0m\u001b[0;34m\u001b[0m\u001b[0;34m\u001b[0m\u001b[0m\n\u001b[1;32m    424\u001b[0m         \u001b[0;32mif\u001b[0m \u001b[0mis_root_config\u001b[0m\u001b[0;34m:\u001b[0m\u001b[0;34m\u001b[0m\u001b[0;34m\u001b[0m\u001b[0m\n\u001b[0;32m--> 425\u001b[0;31m             \u001b[0;32mreturn\u001b[0m \u001b[0m_expand_virtual_root\u001b[0m\u001b[0;34m(\u001b[0m\u001b[0mrepo\u001b[0m\u001b[0;34m,\u001b[0m \u001b[0mroot\u001b[0m\u001b[0;34m,\u001b[0m \u001b[0moverrides\u001b[0m\u001b[0;34m,\u001b[0m \u001b[0mskip_missing\u001b[0m\u001b[0;34m)\u001b[0m\u001b[0;34m\u001b[0m\u001b[0;34m\u001b[0m\u001b[0m\n\u001b[0m\u001b[1;32m    426\u001b[0m         \u001b[0;32melse\u001b[0m\u001b[0;34m:\u001b[0m\u001b[0;34m\u001b[0m\u001b[0;34m\u001b[0m\u001b[0m\n\u001b[1;32m    427\u001b[0m             \u001b[0;32mreturn\u001b[0m \u001b[0mroot\u001b[0m\u001b[0;34m\u001b[0m\u001b[0;34m\u001b[0m\u001b[0m\n",
      "\u001b[0;32m~/miniconda3/envs/NLP/lib/python3.8/site-packages/hydra/_internal/defaults_list.py\u001b[0m in \u001b[0;36m_expand_virtual_root\u001b[0;34m(repo, root, overrides, skip_missing)\u001b[0m\n\u001b[1;32m    265\u001b[0m             \u001b[0md\u001b[0m\u001b[0;34m.\u001b[0m\u001b[0mupdate_parent\u001b[0m\u001b[0;34m(\u001b[0m\u001b[0;34m\"\"\u001b[0m\u001b[0;34m,\u001b[0m \u001b[0;34m\"\"\u001b[0m\u001b[0;34m)\u001b[0m\u001b[0;34m\u001b[0m\u001b[0;34m\u001b[0m\u001b[0m\n\u001b[1;32m    266\u001b[0m \u001b[0;34m\u001b[0m\u001b[0m\n\u001b[0;32m--> 267\u001b[0;31m             subtree = _create_defaults_tree_impl(\n\u001b[0m\u001b[1;32m    268\u001b[0m                 \u001b[0mrepo\u001b[0m\u001b[0;34m=\u001b[0m\u001b[0mrepo\u001b[0m\u001b[0;34m,\u001b[0m\u001b[0;34m\u001b[0m\u001b[0;34m\u001b[0m\u001b[0m\n\u001b[1;32m    269\u001b[0m                 \u001b[0mroot\u001b[0m\u001b[0;34m=\u001b[0m\u001b[0mnew_root\u001b[0m\u001b[0;34m,\u001b[0m\u001b[0;34m\u001b[0m\u001b[0;34m\u001b[0m\u001b[0m\n",
      "\u001b[0;32m~/miniconda3/envs/NLP/lib/python3.8/site-packages/hydra/_internal/defaults_list.py\u001b[0m in \u001b[0;36m_create_defaults_tree_impl\u001b[0;34m(repo, root, is_root_config, skip_missing, interpolated_subtree, overrides)\u001b[0m\n\u001b[1;32m    464\u001b[0m                 \u001b[0mparent\u001b[0m\u001b[0;34m.\u001b[0m\u001b[0mdeleted\u001b[0m \u001b[0;34m=\u001b[0m \u001b[0;32mTrue\u001b[0m\u001b[0;34m\u001b[0m\u001b[0;34m\u001b[0m\u001b[0m\n\u001b[1;32m    465\u001b[0m                 \u001b[0;32mreturn\u001b[0m \u001b[0mroot\u001b[0m\u001b[0;34m\u001b[0m\u001b[0;34m\u001b[0m\u001b[0m\n\u001b[0;32m--> 466\u001b[0;31m             \u001b[0mconfig_not_found_error\u001b[0m\u001b[0;34m(\u001b[0m\u001b[0mrepo\u001b[0m\u001b[0;34m=\u001b[0m\u001b[0mrepo\u001b[0m\u001b[0;34m,\u001b[0m \u001b[0mtree\u001b[0m\u001b[0;34m=\u001b[0m\u001b[0mroot\u001b[0m\u001b[0;34m)\u001b[0m\u001b[0;34m\u001b[0m\u001b[0;34m\u001b[0m\u001b[0m\n\u001b[0m\u001b[1;32m    467\u001b[0m \u001b[0;34m\u001b[0m\u001b[0m\n\u001b[1;32m    468\u001b[0m         \u001b[0;32massert\u001b[0m \u001b[0mloaded\u001b[0m \u001b[0;32mis\u001b[0m \u001b[0;32mnot\u001b[0m \u001b[0;32mNone\u001b[0m\u001b[0;34m\u001b[0m\u001b[0;34m\u001b[0m\u001b[0m\n",
      "\u001b[0;32m~/miniconda3/envs/NLP/lib/python3.8/site-packages/hydra/_internal/defaults_list.py\u001b[0m in \u001b[0;36mconfig_not_found_error\u001b[0;34m(repo, tree)\u001b[0m\n\u001b[1;32m    772\u001b[0m     \u001b[0mmsg\u001b[0m \u001b[0;34m+=\u001b[0m \u001b[0;34m\"\\nConfig search path:\"\u001b[0m \u001b[0;34m+\u001b[0m \u001b[0;34mf\"\\n{lines}\"\u001b[0m\u001b[0;34m\u001b[0m\u001b[0;34m\u001b[0m\u001b[0m\n\u001b[1;32m    773\u001b[0m \u001b[0;34m\u001b[0m\u001b[0m\n\u001b[0;32m--> 774\u001b[0;31m     raise MissingConfigException(\n\u001b[0m\u001b[1;32m    775\u001b[0m         \u001b[0mmissing_cfg_file\u001b[0m\u001b[0;34m=\u001b[0m\u001b[0melement\u001b[0m\u001b[0;34m.\u001b[0m\u001b[0mget_config_path\u001b[0m\u001b[0;34m(\u001b[0m\u001b[0;34m)\u001b[0m\u001b[0;34m,\u001b[0m\u001b[0;34m\u001b[0m\u001b[0;34m\u001b[0m\u001b[0m\n\u001b[1;32m    776\u001b[0m         \u001b[0mmessage\u001b[0m\u001b[0;34m=\u001b[0m\u001b[0mmsg\u001b[0m\u001b[0;34m,\u001b[0m\u001b[0;34m\u001b[0m\u001b[0;34m\u001b[0m\u001b[0m\n",
      "\u001b[0;31mMissingConfigException\u001b[0m: Cannot find primary config 'hparams.yaml'. Check that it's in your config search path.\n\nConfig search path:\n\tprovider=hydra, path=pkg://hydra.conf\n\tprovider=main, path=file:///home/nxingyu/project/experiment\n\tprovider=schema, path=structured://"
     ]
    }
   ],
   "source": [
    "import hydra\n",
    "import numpy as np\n",
    "import pytorch_lightning as pl\n",
    "import torch\n",
    "from omegaconf import DictConfig, OmegaConf\n",
    "from transformers import AutoTokenizer\n",
    "\n",
    "from data import PunctuationDataModule, PunctuationInferenceDataset\n",
    "import os\n",
    "from models import PunctuationDomainModel\n",
    "\n",
    "from nemo.utils.exp_manager import exp_manager\n",
    "from time import time\n",
    "from pytorch_lightning.callbacks import ModelCheckpoint\n",
    "\n",
    "import atexit\n",
    "from copy import deepcopy\n",
    "import snoop\n",
    "snoop.install()\n",
    "\n",
    "from hydra.experimental import initialize, initialize_config_module, initialize_config_dir, compose\n",
    "hydra.core.global_hydra.GlobalHydra.instance().clear()\n",
    "# folder=\"TEDend2021-02-11_07-57-33\"\n",
    "# folder=\"TEDstart2021-02-11_07-55-58\"\n",
    "# folder=\"TEDnone2021-02-11_10-14-34\"\n",
    "# folder=\"bilstmcrfbs82021-02-15_10-38-18\"\n",
    "# folder=\"bilstmnocrf2021-02-15_13-11-35\"\n",
    "folder=\"bilstm1fcl2021-02-16_13-11-12\"\n",
    "# initialize(config_path=\"../Punctuation_with_Domain_discriminator/\"+folder) \n",
    "initialize()\n",
    "!pwd\n",
    "cfg=compose(\n",
    "#     config_name=\"hparams.yaml\", \n",
    "    config_name=\"config.yaml\",\n",
    ")\n",
    "cfg.model.punct_label_ids=OmegaConf.create(sorted(cfg.model.punct_label_ids))\n",
    "labels_to_ids = {_[1]:_[0] for _ in enumerate(cfg.model.punct_label_ids)}\n",
    "ids_to_labels = {_[0]:_[1] for _ in enumerate(cfg.model.punct_label_ids)}\n",
    "# model = PunctuationDomainModel.load_from_checkpoint( #TEDend2021-02-11_07-57-33  # TEDstart2021-02-11_07-55-58\n",
    "#     checkpoint_path=f\"/home/nxingyu/project/Punctuation_with_Domain_discriminator/{folder}/checkpoints/Punctuation_with_Domain_discriminator-last.ckpt\")\n",
    "# trainer = pl.Trainer(**cfg.trainer)"
   ]
  },
  {
   "cell_type": "code",
   "execution_count": 2,
   "id": "dependent-battery",
   "metadata": {},
   "outputs": [
    {
     "data": {
      "text/plain": [
       "[' hooooooo.                                                                                                                           ',\n",
       " ' what can i do for you today?                                                                                                                        ',\n",
       " ' how are you.                                                                                                                            ',\n",
       " ' in guadeloupe, or marti- nique, it also brin- gs into ques- tion budgetary po- licy. because the europe an union is after all, making a present of ecu 1, 9 billion to three multinationals. where are the financial interests of the european union? firstly, development policy in africa— in any case, in the acp countries employ ment policy in madeira, the canaries, guadel oupe, martinique and crete, regional pol- icy, in the ultra peripheral areas— human rights, which mr barthet mayer mentioned earlier, since dollar bananas are after all, slavery bana nas, the product of human exploitation by three multinat ionals. payments of ec ',\n",
       " ' u 50 per mon th, instead of ecu 50 per day.                                                                                                                   ',\n",
       " ' plans for this weekend include turning wine into water. the small white buoys marked the location of hundreds of crab pots. he said he was not there yesterday, however many people saw him there today. arrived, with a crash of my car through the garage door. the lyrics of the song sounded like fingernails on a chalkboard. the guinea fowl flies through the air with all the grace of a turtle. they ran around the corner to find that they had traveled back in time.                                      ',\n",
       " ' good morning, everyone, how have your weekends been? its a really great day. thank you.                                                                                                                ',\n",
       " ' first of all, i too agree that tourism- related action must include employment training and education. as you know, after the european conference on tourism and employment in luxemborg, we set up a high- level group whose mission was to examine how best tourism could contribute towards employment. the first stage.                                                                          ',\n",
       " ' ummm, im not really sure. can you check with mr john instead? thanks.                                                                                                                 ']"
      ]
     },
     "execution_count": 2,
     "metadata": {},
     "output_type": "execute_result"
    }
   ],
   "source": [
    "\n",
    "queries = [\n",
    "    'Hooooooo!',\n",
    "    'what can i do for you today',\n",
    "    'how are you',\n",
    "    ' in guadeloupe or marti nique it also brin gs into ques tion budgetary po licy because the europe an union is after all making a present of ecu 1.9 billion to three multinationals where are the financial interests of the european union firstly development policy in africa in any case in the acp countries employ ment policy in madeira the canaries guadel oupe martinique and crete regional pol icy in the ultra-peripheral areas human rights which mr barthet mayer mentioned earlier since dollar bananas are after all slavery bana nas the product of human exploitation by three multinat ionals payments of ecu 50 per mon th instead of ecu 50 per day',\n",
    "    '''Plans for this weekend include turning wine into water.\n",
    "The small white buoys marked the location of hundreds of crab pots.\n",
    "He said he was not there yesterday; however, many people saw him there.\n",
    "Today arrived with a crash of my car through the garage door.\n",
    "The lyrics of the song sounded like fingernails on a chalkboard.\n",
    "The Guinea fowl flies through the air with all the grace of a turtle.\n",
    "They ran around the corner to find that they had traveled back in time.''',\n",
    "    'good morning everyone how have your weekends been its a really great day thank you',\n",
    "    'first of all i too agree that tourism related action must include employment training and education as you know after the european conference on tourism and employment in luxemborg we set up a high-level group whose mission was to examine how best tourism could contribute towards employment the first stage',\n",
    "    \"Ummm Im not really sure can you check with mr john instead thanks\"\n",
    "]\n",
    "inference_results = model.add_punctuation(queries)\n",
    "inference_results"
   ]
  },
  {
   "cell_type": "code",
   "execution_count": 16,
   "id": "dietary-violin",
   "metadata": {},
   "outputs": [
    {
     "data": {
      "text/plain": [
       "[' hooooooo.                                                                                                                           ',\n",
       " ' what can i do for you? today                                                                                                                        ',\n",
       " ' how are you?                                                                                                                            ',\n",
       " ' in guadeloupe or marti nique, it also brin gs into ques tion budgetary po- licy, because the europe, an union is after all, making a present of ecu 1, 9 billion to three multinationals. where are the financial interests of the european union? firstly, development policy in africa in any case, in the acp countries, employ ment policy in madeira, the canaries, guadel oupe, martinique and crete, regional pol- icy in the ultra- peripheral areas— human rights, which mr barthet mayer mentioned earlier, since dollar bananas are after all, slavery, bana nas the product of human exploitation by three multinat- ionals— payments of ec ',\n",
       " ' u 50 per mon th, instead of ecu 50 per day.                                                                                                                   ',\n",
       " ' plans for this weekend include turning wine into water. the small white buoys marked the location of hundreds of crab pots. he said he was not there yesterday. however many people saw him there today. arrived with a crash of my car through the garage door. the lyrics of the song sounded like fingernails on a chalkboard. the guinea fowl flies through the air with all the grace of a turtle. they ran around the corner to find that they had traveled back in time.                                      ',\n",
       " ' good morning, everyone. how have your weekends been? its a really great day. thank you.                                                                                                                ',\n",
       " ' first of all, i too agree that tourism- related action must include employment training and education. as you know, after the european conference on tourism and employment in luxemborg, we set up a high- level group, whose mission was to examine how best tourism could contribute towards employment. the first stage.                                                                          ',\n",
       " ' ummm, im not really sure. can you check with mr? john instead? thanks.                                                                                                                 ']"
      ]
     },
     "execution_count": 16,
     "metadata": {},
     "output_type": "execute_result"
    }
   ],
   "source": [
    "\n",
    "queries = [\n",
    "    'Hooooooo!',\n",
    "    'what can i do for you today',\n",
    "    'how are you',\n",
    "    ' in guadeloupe or marti nique it also brin gs into ques tion budgetary po licy because the europe an union is after all making a present of ecu 1.9 billion to three multinationals where are the financial interests of the european union firstly development policy in africa in any case in the acp countries employ ment policy in madeira the canaries guadel oupe martinique and crete regional pol icy in the ultra-peripheral areas human rights which mr barthet mayer mentioned earlier since dollar bananas are after all slavery bana nas the product of human exploitation by three multinat ionals payments of ecu 50 per mon th instead of ecu 50 per day',\n",
    "    '''Plans for this weekend include turning wine into water.\n",
    "The small white buoys marked the location of hundreds of crab pots.\n",
    "He said he was not there yesterday; however, many people saw him there.\n",
    "Today arrived with a crash of my car through the garage door.\n",
    "The lyrics of the song sounded like fingernails on a chalkboard.\n",
    "The Guinea fowl flies through the air with all the grace of a turtle.\n",
    "They ran around the corner to find that they had traveled back in time.''',\n",
    "    'good morning everyone how have your weekends been its a really great day thank you',\n",
    "    'first of all i too agree that tourism related action must include employment training and education as you know after the european conference on tourism and employment in luxemborg we set up a high-level group whose mission was to examine how best tourism could contribute towards employment the first stage',\n",
    "    \"Ummm Im not really sure can you check with mr john instead thanks\"\n",
    "]\n",
    "inference_results = model.add_punctuation(queries)\n",
    "inference_results"
   ]
  },
  {
   "cell_type": "code",
   "execution_count": 4,
   "id": "hairy-proxy",
   "metadata": {},
   "outputs": [
    {
     "data": {
      "text/plain": [
       "[' hooooooo.                                                                                                                           ',\n",
       " ' what can i do for you? today                                                                                                                        ',\n",
       " ' how are you?                                                                                                                            ',\n",
       " ' in guadeloupe or marti nique, it also brin gs into ques tion budgetary po- licy because the europe, an union is after all, making a present of ecu 1, 9 billion to three multinationals. where are the financial interests of the european union? firstly, development policy in africa in any case, in the acp countries, employ ment policy in madeira, the canaries, guadel oupe, martinique and crete, regional pol- icy in the ultra- peripheral areas— human rights, which mr barthet mayer mentioned earlier, since dollar bananas are after all, slavery, bana nas the product of human exploitation by three multinat- ionals— payments of ec ',\n",
       " ' u 50 per mon th, instead of ecu 50 per day.                                                                                                                   ',\n",
       " ' plans for this weekend include turning wine into water. the small white buoys marked the location of hundreds of crab pots. he said he was not there yesterday, however many people saw him there today. arrived with a crash of my car through the garage door. the lyrics of the song sounded like fingernails on a chalkboard. the guinea fowl flies through the air with all the grace of a turtle. they ran around the corner to find that they had traveled back in time.                                      ',\n",
       " ' good morning, everyone. how have your weekends been? its a really great day. thank you.                                                                                                                ',\n",
       " ' first of all, i too agree that tourism- related action must include employment training and education. as you know, after the european conference on tourism and employment in luxemborg, we set up a high- level group, whose mission was to examine how best tourism could contribute towards employment. the first stage.                                                                          ']"
      ]
     },
     "execution_count": 4,
     "metadata": {},
     "output_type": "execute_result"
    }
   ],
   "source": [
    "\n",
    "queries = [\n",
    "    'Hooooooo!',\n",
    "    'what can i do for you today',\n",
    "    'how are you',\n",
    "    ' in guadeloupe or marti nique it also brin gs into ques tion budgetary po licy because the europe an union is after all making a present of ecu 1.9 billion to three multinationals where are the financial interests of the european union firstly development policy in africa in any case in the acp countries employ ment policy in madeira the canaries guadel oupe martinique and crete regional pol icy in the ultra-peripheral areas human rights which mr barthet mayer mentioned earlier since dollar bananas are after all slavery bana nas the product of human exploitation by three multinat ionals payments of ecu 50 per mon th instead of ecu 50 per day',\n",
    "    '''Plans for this weekend include turning wine into water.\n",
    "The small white buoys marked the location of hundreds of crab pots.\n",
    "He said he was not there yesterday; however, many people saw him there.\n",
    "Today arrived with a crash of my car through the garage door.\n",
    "The lyrics of the song sounded like fingernails on a chalkboard.\n",
    "The Guinea fowl flies through the air with all the grace of a turtle.\n",
    "They ran around the corner to find that they had traveled back in time.''',\n",
    "    'good morning everyone how have your weekends been its a really great day thank you',\n",
    "    'first of all i too agree that tourism related action must include employment training and education as you know after the european conference on tourism and employment in luxemborg we set up a high-level group whose mission was to examine how best tourism could contribute towards employment the first stage'\n",
    "]\n",
    "inference_results = model.add_punctuation(queries)\n",
    "inference_results"
   ]
  },
  {
   "cell_type": "code",
   "execution_count": 9,
   "id": "residential-scene",
   "metadata": {},
   "outputs": [
    {
     "data": {
      "text/plain": [
       "[' hooooooo,                                                                                                                           ',\n",
       " ' what can i do for you today?                                                                                                                        ',\n",
       " ' ? how are you?                                                                                                                            ',\n",
       " ' firstly, development policy in africa. in any case, in the acp, countries, employment policy in madeira, the canaries— guadeloupe, martinique and crete, regional policy in the ultra- peripheral areas— human rights, which mr barthet mayer, mentioned earlier, since dollar bananas are after all, slavery. bananas, the product of human exploitation by three multinationals, payments of ecu 50 per month, instead of ecu 50 per day in guadeloupe or martinique. it also brings into question budgetary policy. because the european union is after all, making a present of ecu 1, 9 billion to three multinationals. where are the financial interests of the european union?         ',\n",
       " ' plans for this weekend, include turning wine into water. the small white buoys marked the location of hundreds of crab pots. he said he was not there yesterday. however, many people saw him there. today. arrived with a crash of my car through the garage door. the lyrics of the song sounded like fingernails on a chalkboard. the guinea fowl flies through the air with all the grace of a turtle. they ran around the corner, to find that they had traveled back in time,                                      ',\n",
       " ' good morning. everyone? how have your weekends been? its a really great day? thank you.                                                                                                                ',\n",
       " ' first of all, i too agree that tourism- related action must include employment training and education. as you know, after the european conference on tourism and employment in luxemborg, we set up a high- level group, whose mission was to examine how best tourism could contribute towards employment— the first stage,                                                                          ']"
      ]
     },
     "execution_count": 9,
     "metadata": {},
     "output_type": "execute_result"
    }
   ],
   "source": [
    "\n",
    "queries = [\n",
    "    'Hooooooo!',\n",
    "    'what can i do for you today',\n",
    "    'how are you',\n",
    "    'firstly development policy in africa in any case in the acp countries employment policy in madeira the canaries guadeloupe martinique and crete regional policy in the ultra-peripheral areas human rights which mr barthet-mayer mentioned earlier since dollar bananas are after all slavery bananas the product of human exploitation by three multinationals payments of ecu 50 per month instead of ecu 50 per day in guadeloupe or martinique it also brings into question budgetary policy because the european union is after all making a present of ecu 1.9 billion to three multinationals where are the financial interests of the european union',\n",
    "    '''Plans for this weekend include turning wine into water.\n",
    "The small white buoys marked the location of hundreds of crab pots.\n",
    "He said he was not there yesterday; however, many people saw him there.\n",
    "Today arrived with a crash of my car through the garage door.\n",
    "The lyrics of the song sounded like fingernails on a chalkboard.\n",
    "The Guinea fowl flies through the air with all the grace of a turtle.\n",
    "They ran around the corner to find that they had traveled back in time.''',\n",
    "    'good morning everyone how have your weekends been its a really great day thank you',\n",
    "    'first of all i too agree that tourism related action must include employment training and education as you know after the european conference on tourism and employment in luxemborg we set up a high-level group whose mission was to examine how best tourism could contribute towards employment the first stage'\n",
    "]\n",
    "inference_results = model.add_punctuation(queries)\n",
    "inference_results"
   ]
  },
  {
   "cell_type": "code",
   "execution_count": 3,
   "id": "loose-assignment",
   "metadata": {},
   "outputs": [
    {
     "data": {
      "text/plain": [
       "{'input_ids': tensor([[ 101, 7570, 9541, 9541, 9541,  102,    0,    0,    0,    0,    0,    0,\n",
       "             0,    0,    0,    0,    0,    0,    0,    0,    0,    0,    0,    0,\n",
       "             0,    0,    0,    0,    0,    0,    0,    0,    0,    0,    0,    0,\n",
       "             0,    0,    0,    0,    0,    0,    0,    0,    0,    0,    0,    0,\n",
       "             0,    0,    0,    0,    0,    0,    0,    0,    0,    0,    0,    0,\n",
       "             0,    0,    0,    0,    0,    0,    0,    0,    0,    0,    0,    0,\n",
       "             0,    0,    0,    0,    0,    0,    0,    0,    0,    0,    0,    0,\n",
       "             0,    0,    0,    0,    0,    0,    0,    0,    0,    0,    0,    0,\n",
       "             0,    0,    0,    0,    0,    0,    0,    0,    0,    0,    0,    0,\n",
       "             0,    0,    0,    0,    0,    0,    0,    0,    0,    0,    0,    0,\n",
       "             0,    0,    0,    0,    0,    0,    0,    0]]),\n",
       " 'attention_mask': tensor([[ True,  True,  True,  True,  True,  True, False, False, False, False,\n",
       "          False, False, False, False, False, False, False, False, False, False,\n",
       "          False, False, False, False, False, False, False, False, False, False,\n",
       "          False, False, False, False, False, False, False, False, False, False,\n",
       "          False, False, False, False, False, False, False, False, False, False,\n",
       "          False, False, False, False, False, False, False, False, False, False,\n",
       "          False, False, False, False, False, False, False, False, False, False,\n",
       "          False, False, False, False, False, False, False, False, False, False,\n",
       "          False, False, False, False, False, False, False, False, False, False,\n",
       "          False, False, False, False, False, False, False, False, False, False,\n",
       "          False, False, False, False, False, False, False, False, False, False,\n",
       "          False, False, False, False, False, False, False, False, False, False,\n",
       "          False, False, False, False, False, False, False, False]]),\n",
       " 'subtoken_mask': tensor([[ True,  True, False, False, False, False, False, False, False, False,\n",
       "          False, False, False, False, False, False, False, False, False, False,\n",
       "          False, False, False, False, False, False, False, False, False, False,\n",
       "          False, False, False, False, False, False, False, False, False, False,\n",
       "          False, False, False, False, False, False, False, False, False, False,\n",
       "          False, False, False, False, False, False, False, False, False, False,\n",
       "          False, False, False, False, False, False, False, False, False, False,\n",
       "          False, False, False, False, False, False, False, False, False, False,\n",
       "          False, False, False, False, False, False, False, False, False, False,\n",
       "          False, False, False, False, False, False, False, False, False, False,\n",
       "          False, False, False, False, False, False, False, False, False, False,\n",
       "          False, False, False, False, False, False, False, False, False, False,\n",
       "          False, False, False, False, False, False, False, False]]),\n",
       " 'labels': tensor([[0, 1, 0, 0, 0, 0, 0, 0, 0, 0, 0, 0, 0, 0, 0, 0, 0, 0, 0, 0, 0, 0, 0, 0,\n",
       "          0, 0, 0, 0, 0, 0, 0, 0, 0, 0, 0, 0, 0, 0, 0, 0, 0, 0, 0, 0, 0, 0, 0, 0,\n",
       "          0, 0, 0, 0, 0, 0, 0, 0, 0, 0, 0, 0, 0, 0, 0, 0, 0, 0, 0, 0, 0, 0, 0, 0,\n",
       "          0, 0, 0, 0, 0, 0, 0, 0, 0, 0, 0, 0, 0, 0, 0, 0, 0, 0, 0, 0, 0, 0, 0, 0,\n",
       "          0, 0, 0, 0, 0, 0, 0, 0, 0, 0, 0, 0, 0, 0, 0, 0, 0, 0, 0, 0, 0, 0, 0, 0,\n",
       "          0, 0, 0, 0, 0, 0, 0, 0]])}"
      ]
     },
     "execution_count": 3,
     "metadata": {},
     "output_type": "execute_result"
    }
   ],
   "source": [
    "# cfg.model.punct_label_ids=OmegaConf.create(sorted(cfg.model.punct_label_ids))\n",
    "# labels_to_ids = {_[1]:_[0] for _ in enumerate(cfg.model.punct_label_ids)}\n",
    "\n",
    "queries = [\n",
    "    'Hooooooo!',\n",
    "    # 'what can i do for you today',\n",
    "    # 'how are you',\n",
    "    # 'good morning everyone how have your weekends been its a really great day'\n",
    "]\n",
    "cfg.model.punct_label_ids=OmegaConf.create(sorted(cfg.model.punct_label_ids))\n",
    "labels_to_ids = {_[1]:_[0] for _ in enumerate(cfg.model.punct_label_ids)}\n",
    "ds=PunctuationInferenceDataset(tokenizer=AutoTokenizer.from_pretrained('google/electra-small-discriminator'), queries=queries, max_seq_length=128, punct_label_ids=labels_to_ids, degree=0, attach_label_to_end=False)\n",
    "ds[0]"
   ]
  },
  {
   "cell_type": "code",
   "execution_count": null,
   "id": "employed-station",
   "metadata": {},
   "outputs": [],
   "source": []
  }
 ],
 "metadata": {
  "kernelspec": {
   "display_name": "Python 3",
   "language": "python",
   "name": "python3"
  },
  "language_info": {
   "codemirror_mode": {
    "name": "ipython",
    "version": 3
   },
   "file_extension": ".py",
   "mimetype": "text/x-python",
   "name": "python",
   "nbconvert_exporter": "python",
   "pygments_lexer": "ipython3",
   "version": "3.8.5"
  }
 },
 "nbformat": 4,
 "nbformat_minor": 5
}
