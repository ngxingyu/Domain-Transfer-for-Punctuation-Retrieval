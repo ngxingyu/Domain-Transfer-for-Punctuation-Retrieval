{
 "cells": [
  {
   "cell_type": "code",
   "execution_count": 1,
   "id": "modern-amplifier",
   "metadata": {},
   "outputs": [
    {
     "name": "stdout",
     "output_type": "stream",
     "text": [
      "/home/nxingyu2/project/experiment\r\n"
     ]
    }
   ],
   "source": [
    "import hydra\n",
    "import numpy as np\n",
    "import pytorch_lightning as pl\n",
    "import torch\n",
    "from omegaconf import DictConfig, OmegaConf\n",
    "from transformers import AutoTokenizer\n",
    "\n",
    "from data import PunctuationDataModule, PunctuationInferenceDataset\n",
    "import os\n",
    "from models import PunctuationDomainModel\n",
    "\n",
    "from nemo.utils.exp_manager import exp_manager\n",
    "from time import time\n",
    "from pytorch_lightning.callbacks import ModelCheckpoint\n",
    "\n",
    "import atexit\n",
    "from copy import deepcopy\n",
    "import snoop\n",
    "snoop.install()\n",
    "\n",
    "from hydra.experimental import initialize, initialize_config_module, initialize_config_dir, compose\n",
    "hydra.core.global_hydra.GlobalHydra.instance().clear()\n",
    "initialize() #config_path=\"project/experiment\"\n",
    "!pwd\n",
    "\n",
    "cfg=compose(\n",
    "    config_name=\"test_config.yaml\", \n",
    ")\n",
    "cfg.model.punct_label_ids=OmegaConf.create(sorted(cfg.model.punct_label_ids))\n",
    "# labels_to_ids = {_[1]:_[0] for _ in enumerate(cfg.model.punct_label_ids)}\n",
    "# ids_to_labels = {_[0]:_[1] for _ in enumerate(cfg.model.punct_label_ids)}\n",
    "\n",
    "# model = PunctuationDomainModel.load_from_checkpoint( #TEDend2021-02-11_07-57-33  # TEDstart2021-02-11_07-55-58\n",
    "#     checkpoint_path=\"/home/nxingyu2/project/Punctuation_with_Domain_discriminator/TEDend2021-02-11_07-57-33/checkpoints/Punctuation_with_Domain_discriminator-last.ckpt\")\n",
    "# trainer = pl.Trainer(**cfg.trainer)"
   ]
  },
  {
   "cell_type": "code",
   "execution_count": 2,
   "id": "loose-assignment",
   "metadata": {},
   "outputs": [
    {
     "data": {
      "text/plain": [
       "{'input_ids': tensor([[ 101, 7570, 9541, 9541, 9541,  102,    0,    0,    0,    0,    0,    0,\n",
       "             0,    0,    0,    0,    0,    0,    0,    0,    0,    0,    0,    0,\n",
       "             0,    0,    0,    0,    0,    0,    0,    0,    0,    0,    0,    0,\n",
       "             0,    0,    0,    0,    0,    0,    0,    0,    0,    0,    0,    0,\n",
       "             0,    0,    0,    0,    0,    0,    0,    0,    0,    0,    0,    0,\n",
       "             0,    0,    0,    0,    0,    0,    0,    0,    0,    0,    0,    0,\n",
       "             0,    0,    0,    0,    0,    0,    0,    0,    0,    0,    0,    0,\n",
       "             0,    0,    0,    0,    0,    0,    0,    0,    0,    0,    0,    0,\n",
       "             0,    0,    0,    0,    0,    0,    0,    0,    0,    0,    0,    0,\n",
       "             0,    0,    0,    0,    0,    0,    0,    0,    0,    0,    0,    0,\n",
       "             0,    0,    0,    0,    0,    0,    0,    0]]),\n",
       " 'attention_mask': tensor([[ True,  True,  True,  True,  True,  True, False, False, False, False,\n",
       "          False, False, False, False, False, False, False, False, False, False,\n",
       "          False, False, False, False, False, False, False, False, False, False,\n",
       "          False, False, False, False, False, False, False, False, False, False,\n",
       "          False, False, False, False, False, False, False, False, False, False,\n",
       "          False, False, False, False, False, False, False, False, False, False,\n",
       "          False, False, False, False, False, False, False, False, False, False,\n",
       "          False, False, False, False, False, False, False, False, False, False,\n",
       "          False, False, False, False, False, False, False, False, False, False,\n",
       "          False, False, False, False, False, False, False, False, False, False,\n",
       "          False, False, False, False, False, False, False, False, False, False,\n",
       "          False, False, False, False, False, False, False, False, False, False,\n",
       "          False, False, False, False, False, False, False, False]]),\n",
       " 'subtoken_mask': tensor([[ True,  True,  True,  True,  True, False, False, False, False, False,\n",
       "          False, False, False, False, False, False, False, False, False, False,\n",
       "          False, False, False, False, False, False, False, False, False, False,\n",
       "          False, False, False, False, False, False, False, False, False, False,\n",
       "          False, False, False, False, False, False, False, False, False, False,\n",
       "          False, False, False, False, False, False, False, False, False, False,\n",
       "          False, False, False, False, False, False, False, False, False, False,\n",
       "          False, False, False, False, False, False, False, False, False, False,\n",
       "          False, False, False, False, False, False, False, False, False, False,\n",
       "          False, False, False, False, False, False, False, False, False, False,\n",
       "          False, False, False, False, False, False, False, False, False, False,\n",
       "          False, False, False, False, False, False, False, False, False, False,\n",
       "          False, False, False, False, False, False, False, False]]),\n",
       " 'labels': tensor([[0, 0, 0, 0, 1, 0, 0, 0, 0, 0, 0, 0, 0, 0, 0, 0, 0, 0, 0, 0, 0, 0, 0, 0,\n",
       "          0, 0, 0, 0, 0, 0, 0, 0, 0, 0, 0, 0, 0, 0, 0, 0, 0, 0, 0, 0, 0, 0, 0, 0,\n",
       "          0, 0, 0, 0, 0, 0, 0, 0, 0, 0, 0, 0, 0, 0, 0, 0, 0, 0, 0, 0, 0, 0, 0, 0,\n",
       "          0, 0, 0, 0, 0, 0, 0, 0, 0, 0, 0, 0, 0, 0, 0, 0, 0, 0, 0, 0, 0, 0, 0, 0,\n",
       "          0, 0, 0, 0, 0, 0, 0, 0, 0, 0, 0, 0, 0, 0, 0, 0, 0, 0, 0, 0, 0, 0, 0, 0,\n",
       "          0, 0, 0, 0, 0, 0, 0, 0]])}"
      ]
     },
     "execution_count": 2,
     "metadata": {},
     "output_type": "execute_result"
    }
   ],
   "source": [
    "queries = [\n",
    "    'Hooooooo!',\n",
    "    # 'what can i do for you today',\n",
    "    # 'how are you',\n",
    "    # 'good morning everyone how have your weekends been its a really great day'\n",
    "]\n",
    "cfg.model.punct_label_ids=OmegaConf.create(sorted(cfg.model.punct_label_ids))\n",
    "labels_to_ids = {_[1]:_[0] for _ in enumerate(cfg.model.punct_label_ids)}\n",
    "ds=PunctuationInferenceDataset(tokenizer=AutoTokenizer.from_pretrained('google/electra-small-discriminator'), queries=queries, max_seq_length=128, punct_label_ids=labels_to_ids, degree=0, attach_label_to_end=False)\n",
    "ds[0]"
   ]
  },
  {
   "cell_type": "code",
   "execution_count": 2,
   "id": "american-territory",
   "metadata": {},
   "outputs": [
    {
     "data": {
      "text/plain": [
       "['', '!', ',', '-', '.', ':', ';', '?', '—', '…']"
      ]
     },
     "execution_count": 2,
     "metadata": {},
     "output_type": "execute_result"
    }
   ],
   "source": [
    "model._cfg.model.punct_label_ids"
   ]
  },
  {
   "cell_type": "code",
   "execution_count": 3,
   "id": "hairy-proxy",
   "metadata": {},
   "outputs": [
    {
     "data": {
      "text/plain": [
       "[' hooooooo                                                                                                                           ',\n",
       " ' what can i do for you today?                                                                                                                        ',\n",
       " ' , how? are you?                                                                                                                            ',\n",
       " ' firstly, development policy in africa. in any case, in the acp countries, employment policy in madeira, the canaries guadeloupe martinique and crete, regional policy in the ultra- peripheral areas— human rights, which mr barthet mayer mentioned earlier, since dollar bananas are after all slavery, bananas, the product of human exploitation by three multinationals payments of ecu 50 per month, instead of ecu 50 per day in guadeloupe or martinique. it also brings into question budgetary policy. because the european union is after all, making a present of ecu 1, 9 billion to three multinationals where are the financial interests of the european union         ',\n",
       " ' plans for this weekend, include turning wine into water. the small white buoys marked the location of hundreds of crab pots. he said he was not there yesterday. however many people saw him there today, arrived with a crash of my car through the garage door. the lyrics of the song sounded like fingernails on a chalkboard the guinea fowl flies through the air with all the grace of a turtle. they ran around the corner, to find that they had traveled back in time,                                      ',\n",
       " ' good morning? everyone? how have your weekends? been? its a really great day? thank you.                                                                                                                ',\n",
       " ' first of all, i too agree that tourism- related action must include employment, training and education. as you know, after the european conference on tourism and employment in luxemborg we set up a high- level group, whose mission was to examine how best tourism could contribute towards employment— the first stage,                                                                          ']"
      ]
     },
     "execution_count": 3,
     "metadata": {},
     "output_type": "execute_result"
    }
   ],
   "source": [
    "# cfg.model.punct_label_ids=OmegaConf.create(sorted(cfg.model.punct_label_ids))\n",
    "# labels_to_ids = {_[1]:_[0] for _ in enumerate(cfg.model.punct_label_ids)}\n",
    "\n",
    "queries = [\n",
    "    'Hooooooo!',\n",
    "    'what can i do for you today',\n",
    "    'how are you',\n",
    "    'firstly development policy in africa in any case in the acp countries employment policy in madeira the canaries guadeloupe martinique and crete regional policy in the ultra-peripheral areas human rights which mr barthet-mayer mentioned earlier since dollar bananas are after all slavery bananas the product of human exploitation by three multinationals payments of ecu 50 per month instead of ecu 50 per day in guadeloupe or martinique it also brings into question budgetary policy because the european union is after all making a present of ecu 1.9 billion to three multinationals where are the financial interests of the european union',\n",
    "    '''Plans for this weekend include turning wine into water.\n",
    "The small white buoys marked the location of hundreds of crab pots.\n",
    "He said he was not there yesterday; however, many people saw him there.\n",
    "Today arrived with a crash of my car through the garage door.\n",
    "The lyrics of the song sounded like fingernails on a chalkboard.\n",
    "The Guinea fowl flies through the air with all the grace of a turtle.\n",
    "They ran around the corner to find that they had traveled back in time.''',\n",
    "    'good morning everyone how have your weekends been its a really great day thank you',\n",
    "    'first of all i too agree that tourism related action must include employment training and education as you know after the european conference on tourism and employment in luxemborg we set up a high-level group whose mission was to examine how best tourism could contribute towards employment the first stage'\n",
    "]\n",
    "inference_results = model.add_punctuation(queries)\n",
    "inference_results"
   ]
  },
  {
   "cell_type": "code",
   "execution_count": null,
   "id": "employed-station",
   "metadata": {},
   "outputs": [],
   "source": []
  }
 ],
 "metadata": {
  "kernelspec": {
   "display_name": "Python 3",
   "language": "python",
   "name": "python3"
  },
  "language_info": {
   "codemirror_mode": {
    "name": "ipython",
    "version": 3
   },
   "file_extension": ".py",
   "mimetype": "text/x-python",
   "name": "python",
   "nbconvert_exporter": "python",
   "pygments_lexer": "ipython3",
   "version": "3.8.5"
  }
 },
 "nbformat": 4,
 "nbformat_minor": 5
}
