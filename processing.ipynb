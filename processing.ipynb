{
 "cells": [
  {
   "cell_type": "code",
   "execution_count": 2,
   "metadata": {},
   "outputs": [],
   "source": [
    "import pandas as pd\n",
    "ted_train=pd.read_csv(\"/home/nxingyu/data/ted_talks_processed.train.csv\")"
   ]
  },
  {
   "cell_type": "code",
   "execution_count": 14,
   "metadata": {},
   "outputs": [
    {
     "data": {
      "text/plain": [
       "131     Thank you. Marcus Miller. Harvey Mason. Thank...\n",
       "Name: transcript, dtype: object"
      ]
     },
     "execution_count": 14,
     "metadata": {},
     "output_type": "execute_result"
    }
   ],
   "source": [
    "ted_train.transcript[ted_train.transcript.apply(lambda x:len(x.split()))==12]#.describe()"
   ]
  },
  {
   "cell_type": "code",
   "execution_count": 17,
   "metadata": {},
   "outputs": [],
   "source": [
    "open_test=pd.read_csv(\"/home/nxingyu/data/open_subtitles_processed.test.csv\")\n",
    "open_dev=pd.read_csv(\"/home/nxingyu/data/open_subtitles_processed.dev.csv\")\n",
    "open_train=pd.read_csv(\"/home/nxingyu/data/open_subtitles_processed.train.csv\")"
   ]
  },
  {
   "cell_type": "code",
   "execution_count": 15,
   "metadata": {},
   "outputs": [
    {
     "data": {
      "text/plain": [
       "1320    THOSE LOVE PANGS RIVALS THERE'S A FEMALE HIDIN...\n",
       "Name: transcript, dtype: object"
      ]
     },
     "execution_count": 15,
     "metadata": {},
     "output_type": "execute_result"
    }
   ],
   "source": [
    "open_test.transcript[open_test.transcript.apply(lambda x:len(x.split()))==17]#.describe()"
   ]
  },
  {
   "cell_type": "code",
   "execution_count": 18,
   "metadata": {},
   "outputs": [
    {
     "name": "stdout",
     "output_type": "stream",
     "text": [
      ". 51669337 0.4692522875161914\n",
      "? 13574073 0.12327746350145292\n",
      "! 6695030 0.06080314408697613\n",
      ", 26494742 0.2406208210229466\n",
      "; 62177 0.0005646811276268986\n",
      ": 437205 0.00397062277697731\n",
      "- 11166241 0.10140993549437426\n",
      "— 11126 0.00010104447345444254\n",
      "\n",
      ". 6439837 0.46993458987098946\n",
      "? 1687622 0.12315093571891012\n",
      "! 823378 0.0600844093940259\n",
      ", 3299631 0.24078415970941544\n",
      "; 7932 0.0005788222849206724\n",
      ": 46257 0.0033755146789681725\n",
      "- 1398018 0.10201764663643831\n",
      "— 1013 7.39217063319013e-05\n",
      "\n",
      ". 6551814 0.4683982355926993\n",
      "? 1713797 0.12252171550719561\n",
      "! 845345 0.06043488207496586\n",
      ", 3381518 0.24174939411053997\n",
      "; 6795 0.00048578393874618413\n",
      ": 52558 0.0037574440401209634\n",
      "- 1435039 0.10259292092338268\n",
      "— 834 5.962381234942128e-05\n",
      "\n"
     ]
    }
   ],
   "source": [
    "def punct_proportion(df):\n",
    "    l=[]\n",
    "    for c in \".?!,;:-—\":\n",
    "        l.append(sum(df.transcript.str.count(\"\\\\\"+c)))\n",
    "    [print(i[0],i[1],i[1]/sum(l)) for i in zip(list(\".?!,;:-—\"),l)]\n",
    "for split in open_train, open_dev, open_test:\n",
    "    punct_proportion(split)\n",
    "    print()"
   ]
  },
  {
   "cell_type": "code",
   "execution_count": null,
   "metadata": {},
   "outputs": [],
   "source": [
    ". 51669337 0.4692522875161914 | 6439837 0.46993458987098946 | 6551814 0.4683982355926993\n",
    "? 13574073 0.12327746350145292 | 1687622 0.12315093571891012 | 1713797 0.12252171550719561\n",
    "! 6695030 0.06080314408697613 | 823378 0.0600844093940259 | 845345 0.06043488207496586\n",
    ", 26494742 0.2406208210229466 | 3299631 0.24078415970941544 | 3381518 0.24174939411053997\n",
    "; 62177 0.0005646811276268986 | 7932 0.0005788222849206724 | 6795 0.00048578393874618413\n",
    ": 437205 0.00397062277697731 | 46257 0.0033755146789681725 | 52558 0.0037574440401209634\n",
    "\\- 11166241 0.10140993549437426 | 1398018 0.10201764663643831 | 1435039 0.10259292092338268\n",
    "— 11126 0.00010104447345444254 | 1013 7.39217063319013e-05 | 834 5.962381234942128e-05\n"
   ]
  }
 ],
 "metadata": {
  "kernelspec": {
   "display_name": "Python 3",
   "language": "python",
   "name": "python3"
  },
  "language_info": {
   "codemirror_mode": {
    "name": "ipython",
    "version": 3
   },
   "file_extension": ".py",
   "mimetype": "text/x-python",
   "name": "python",
   "nbconvert_exporter": "python",
   "pygments_lexer": "ipython3",
   "version": "3.8.5"
  }
 },
 "nbformat": 4,
 "nbformat_minor": 4
}
