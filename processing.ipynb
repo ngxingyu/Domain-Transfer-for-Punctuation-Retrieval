{
 "cells": [
  {
   "cell_type": "code",
   "execution_count": 2,
   "metadata": {},
   "outputs": [],
   "source": [
    "import pandas as pd\n",
    "ted_train=pd.read_csv(\"/home/nxingyu/data/ted_talks_processed.train.csv\")"
   ]
  },
  {
   "cell_type": "code",
   "execution_count": 14,
   "metadata": {},
   "outputs": [
    {
     "data": {
      "text/plain": [
       "131     Thank you. Marcus Miller. Harvey Mason. Thank...\n",
       "Name: transcript, dtype: object"
      ]
     },
     "execution_count": 14,
     "metadata": {},
     "output_type": "execute_result"
    }
   ],
   "source": [
    "ted_train.transcript[ted_train.transcript.apply(lambda x:len(x.split()))==12]#.describe()"
   ]
  },
  {
   "cell_type": "code",
   "execution_count": 8,
   "metadata": {},
   "outputs": [],
   "source": [
    "open_test=pd.read_csv(\"/home/nxingyu/data/open_subtitles_processed.test.csv\")"
   ]
  },
  {
   "cell_type": "code",
   "execution_count": 15,
   "metadata": {},
   "outputs": [
    {
     "data": {
      "text/plain": [
       "1320    THOSE LOVE PANGS RIVALS THERE'S A FEMALE HIDIN...\n",
       "Name: transcript, dtype: object"
      ]
     },
     "execution_count": 15,
     "metadata": {},
     "output_type": "execute_result"
    }
   ],
   "source": [
    "open_test.transcript[open_test.transcript.apply(lambda x:len(x.split()))==17]#.describe()"
   ]
  },
  {
   "cell_type": "code",
   "execution_count": null,
   "metadata": {},
   "outputs": [],
   "source": [
    "def punct_proportion(df):\n",
    "    l=[]\n",
    "    for c in \".?!,;:-—\":\n",
    "        l.append(sum(df.transcript.str.count(\"\\\\\"+c)))\n",
    "    [print(i[0],i[1],i[1]/sum(l)) for i in zip(list(\".?!,;:-—\"),l)]"
   ]
  }
 ],
 "metadata": {
  "kernelspec": {
   "display_name": "Python 3",
   "language": "python",
   "name": "python3"
  },
  "language_info": {
   "codemirror_mode": {
    "name": "ipython",
    "version": 3
   },
   "file_extension": ".py",
   "mimetype": "text/x-python",
   "name": "python",
   "nbconvert_exporter": "python",
   "pygments_lexer": "ipython3",
   "version": "3.8.5"
  }
 },
 "nbformat": 4,
 "nbformat_minor": 4
}
